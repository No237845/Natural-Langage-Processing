{
 "cells": [
  {
   "cell_type": "code",
   "execution_count": null,
   "id": "3ff9ae1d-48e7-4fbe-ae91-c17d973d1d80",
   "metadata": {},
   "outputs": [],
   "source": [
    "Exercice 1 : Scraping de Données Textuelles\n",
    "Objectif : Apprendre à extraire des données textuelles du web pour construire un dataset.\n",
    "Tâches :\n",
    "1.Utiliser une bibliothèque de scraping comme BeautifulSoup ou Scrapy pour extraire les données des liens suivants : \n",
    "a.https://burkinainfo.com pour ce lien récupérer les titres des articles pour les 10 premières pages.\n",
    "b.https://lefaso.net : pour ce lien récupérer les titres des articles pour les 10 premières pages de la rubrique politique et société.\n",
    "2.Chercher et récupérer les données sur les différentes attaques terroriste au Burkina de 2020 à 2025.\n",
    "3.Nettoyer et stocker les données extraites dans un format structuré (CSV ou JSON). "
   ]
  },
  {
   "cell_type": "code",
   "execution_count": 97,
   "id": "e5186f5b-d321-4b42-af7b-3c965b3a0c01",
   "metadata": {},
   "outputs": [],
   "source": [
    "#Importation des bibliothèques\n",
    "import csv\n",
    "from bs4 import BeautifulSoup\n",
    "import requests\n"
   ]
  },
  {
   "cell_type": "code",
   "execution_count": 42,
   "id": "5cc25847-0de2-4602-9be2-98904d738c38",
   "metadata": {},
   "outputs": [],
   "source": [
    "#Chargement de l'url\n",
    "#Les information de https://burkinainfo.com\n",
    "url=\"https://burkinainfo.com\"\n",
    "response=requests.get(url)\n",
    "response=(response.content.decode(\"utf8\"))\n",
    "soup=BeautifulSoup(response,\"html.parser\")\n",
    "#response"
   ]
  },
  {
   "cell_type": "code",
   "execution_count": 98,
   "id": "18a3acbe-b834-47d2-b572-bf4a3d066f58",
   "metadata": {},
   "outputs": [],
   "source": [
    "###Politique\n",
    "#Les information de https://burkinainfo.com categorie politique\n",
    "url=\"https://burkinainfo.com/category/politique/\"\n",
    "response=requests.get(url)\n",
    "response=(response.content.decode(\"utf8\"))\n",
    "soup=BeautifulSoup(response,\"html.parser\")\n",
    "#response"
   ]
  },
  {
   "cell_type": "code",
   "execution_count": 99,
   "id": "1caee02b-9d01-4723-a3bb-5a164dadf450",
   "metadata": {},
   "outputs": [],
   "source": [
    "ul=soup.find('ul',id=\"posts-container\")\n",
    "titres_politique=[]\n",
    "ul\n",
    "for listes in ul:\n",
    "    liste=ul.find_all('li')\n",
    "    for contenu in liste:\n",
    "        h2_tags=contenu.find_all('h2',class_=\"post-title\")\n",
    "        for h2 in h2_tags:\n",
    "            a_tags=h2.find_all('a')\n",
    "            for a in a_tags:\n",
    "                val=a.get_text(strip=True) # texte du lien\n",
    "                titres_politique.append(val)\n",
    "#titres_politique"
   ]
  },
  {
   "cell_type": "code",
   "execution_count": 100,
   "id": "051c0d49-724e-4c31-9456-2b966701f377",
   "metadata": {},
   "outputs": [],
   "source": [
    "##Economie\n",
    "\n",
    "#Les information de https://burkinainfo.com categorie economie\n",
    "url=\"https://burkinainfo.com/category/economie/\"\n",
    "response=requests.get(url)\n",
    "response=(response.content.decode(\"utf8\"))\n",
    "soup=BeautifulSoup(response,\"html.parser\")\n",
    "#response"
   ]
  },
  {
   "cell_type": "code",
   "execution_count": 101,
   "id": "e7039c04-68f1-4371-baf1-cede49da2c8b",
   "metadata": {},
   "outputs": [],
   "source": [
    "ul=soup.find('ul',id=\"posts-container\")\n",
    "titres_economie=[]\n",
    "ul\n",
    "for listes in ul:\n",
    "    liste=ul.find_all('li')\n",
    "    for contenu in liste:\n",
    "        h2_tags=contenu.find_all('h2',class_=\"post-title\")\n",
    "        for h2 in h2_tags:\n",
    "            a_tags=h2.find_all('a')\n",
    "            for a in a_tags:\n",
    "                val=a.get_text(strip=True) # texte du lien\n",
    "                titres_economie.append(val)\n",
    "#titres_economie"
   ]
  },
  {
   "cell_type": "code",
   "execution_count": 102,
   "id": "459a9b04-c70b-4e5f-a6d1-eb88e89bc3b3",
   "metadata": {},
   "outputs": [],
   "source": [
    "#Societe\n",
    "url=\"https://burkinainfo.com/category/societe/\"\n",
    "response=requests.get(url)\n",
    "response=(response.content.decode(\"utf8\"))\n",
    "soup=BeautifulSoup(response,\"html.parser\")\n",
    "#response"
   ]
  },
  {
   "cell_type": "code",
   "execution_count": 103,
   "id": "46c7eae4-6f4f-4edb-a861-62ecd2c8a663",
   "metadata": {},
   "outputs": [],
   "source": [
    "ul=soup.find('ul',id=\"posts-container\")\n",
    "titres_societe=[]\n",
    "ul\n",
    "for listes in ul:\n",
    "    liste=ul.find_all('li')\n",
    "    for contenu in liste:\n",
    "        h2_tags=contenu.find_all('h2',class_=\"post-title\")\n",
    "        for h2 in h2_tags:\n",
    "            a_tags=h2.find_all('a')\n",
    "            for a in a_tags: \n",
    "                val=a.get_text(strip=True)\n",
    "                titres_societe.append(val)\n",
    "#titres_societe"
   ]
  },
  {
   "cell_type": "code",
   "execution_count": 104,
   "id": "2a0f1bc0-11dc-4b56-be92-2dfee2c4f07f",
   "metadata": {},
   "outputs": [],
   "source": [
    "###Culture\n",
    "url=\"https://burkinainfo.com/category/culture/\"\n",
    "response=requests.get(url)\n",
    "response=(response.content.decode(\"utf8\"))\n",
    "soup=BeautifulSoup(response,\"html.parser\")\n",
    "#response"
   ]
  },
  {
   "cell_type": "code",
   "execution_count": 105,
   "id": "12d92618-92bc-4ece-957f-c4fda284668c",
   "metadata": {},
   "outputs": [],
   "source": [
    "ul=soup.find('ul',id=\"posts-container\")\n",
    "titres_culture=[]\n",
    "ul\n",
    "for listes in ul:\n",
    "    liste=ul.find_all('li')\n",
    "    for contenu in liste:\n",
    "        h2_tags=contenu.find_all('h2',class_=\"post-title\")\n",
    "        for h2 in h2_tags:\n",
    "            a_tags=h2.find_all('a')\n",
    "            for a in a_tags:\n",
    "                val=a.get_text(strip=True)\n",
    "                titres_culture.append(val)\n",
    "#titres_culture"
   ]
  },
  {
   "cell_type": "code",
   "execution_count": 106,
   "id": "98923763-01c6-479c-84a9-557aa8675e2f",
   "metadata": {},
   "outputs": [],
   "source": [
    "###Sport\n",
    "from requests import Request\n",
    "url=\"https://burkinainfo.com/category/sports/\"\n",
    "response=requests.get(url)\n",
    "response=(response.content.decode(\"utf8\"))\n",
    "soup=BeautifulSoup(response,\"html.parser\")\n",
    "#response"
   ]
  },
  {
   "cell_type": "code",
   "execution_count": 107,
   "id": "2b52498b-4484-49fd-8009-25268a2845c0",
   "metadata": {},
   "outputs": [],
   "source": [
    "ul=soup.find('ul',id=\"posts-container\")\n",
    "titres_sport=[]\n",
    "ul\n",
    "for listes in ul:\n",
    "    liste=ul.find_all('li')\n",
    "    for contenu in liste:\n",
    "        h2_tags=contenu.find_all('h2',class_=\"post-title\")\n",
    "        for h2 in h2_tags:\n",
    "            a_tags=h2.find_all('a')\n",
    "            for a in a_tags:\n",
    "                val=a.get_text(strip=True)\n",
    "                titres_sport.append(val)\n",
    "#titres_sport"
   ]
  },
  {
   "cell_type": "code",
   "execution_count": 108,
   "id": "592d9dd0-14de-4282-af46-580c58a9d7e0",
   "metadata": {},
   "outputs": [],
   "source": [
    "###La tech\n",
    "url=\"https://burkinainfo.com/category/tie-tech/\"\n",
    "response=requests.get(url)\n",
    "response=(response.content.decode(\"utf8\"))\n",
    "soup=BeautifulSoup(response,\"html.parser\")\n",
    "#response"
   ]
  },
  {
   "cell_type": "code",
   "execution_count": 109,
   "id": "87f8472e-7b5d-4c52-a519-9506c900fd1b",
   "metadata": {},
   "outputs": [],
   "source": [
    "ul=soup.find('ul',id=\"posts-container\")\n",
    "titres_tech=[]\n",
    "ul\n",
    "for listes in ul:\n",
    "    liste=ul.find_all('li')\n",
    "    for contenu in liste:\n",
    "        h2_tags=contenu.find_all('h2',class_=\"post-title\")\n",
    "        for h2 in h2_tags:\n",
    "            a_tags=h2.find_all('a')\n",
    "            for a in a_tags:\n",
    "                val=a.get_text(strip=True)  # texte du lien\n",
    "                titres_tech.append(val)\n",
    "#titres_tech             "
   ]
  },
  {
   "cell_type": "code",
   "execution_count": 82,
   "id": "545fca6c-37e4-4a38-8ac2-454eddfec8a3",
   "metadata": {},
   "outputs": [],
   "source": [
    "header=[\"Politique\",\"Economie\",\"Société\",\"Culture\",\"Sport\",\"Tech\"]"
   ]
  },
  {
   "cell_type": "code",
   "execution_count": 110,
   "id": "fb6d0c8d-1b2d-47a6-8da3-447f2a778b89",
   "metadata": {},
   "outputs": [],
   "source": [
    "titres_politique=titres_politique[:10]\n",
    "titres_economie=titres_economie[:10]\n",
    "titres_societe=titres_societe[:10]\n",
    "titres_sport=titres_sport[:10]\n",
    "titres_tech=titres_tech[:10]\n",
    "with open(\"BurkinaInfo.csv\",\"w\",encoding=\"utf8\") as file:\n",
    "        writer=csv.writer(file,delimiter=\",\")\n",
    "        #writer.writerow(header)\n",
    "        for titre_politique,titre_economie,titre_societe,titre_culture,titre_sport,titre_tech in zip(titres_politique,titres_economie,titres_societe,titres_culture,titres_sport,titres_tech):\n",
    "            writer.writerow([titre_politique,titre_economie,titre_societe,titre_culture,titre_sport,titre_tech]) "
   ]
  },
  {
   "cell_type": "code",
   "execution_count": 111,
   "id": "52ab0f7f-2a65-43a2-a54b-0f06349ee13d",
   "metadata": {},
   "outputs": [],
   "source": [
    "#b.https://lefaso.net : pour ce lien récupérer les titres des articles pour les 10 premières pages de la rubrique politique et société.\n",
    "#Rubrique Politique\n",
    "url=\"https://lefaso.net/spip.php?rubrique2\"\n",
    "response=requests.get(url)\n",
    "response=(response.content.decode(\"utf8\"))\n",
    "soup=BeautifulSoup(response,\"html.parser\")\n",
    "#response"
   ]
  },
  {
   "cell_type": "code",
   "execution_count": 112,
   "id": "34b02366-9b44-4f76-97c1-db2210187bec",
   "metadata": {},
   "outputs": [],
   "source": [
    "#Recuperation des titres \n",
    "#general la div génerale\n",
    "general=soup.find('div',class_=\"col-xs-12 col-sm-12 col-md-8 col-lg-8\")\n",
    "#Declaration de la liste de titre\n",
    "titres_politique=[]\n",
    "#Recuperation de lien +titre\n",
    "h3_part=general.find_all('h3')\n",
    "for h3 in h3_part:\n",
    "    a_tags=h3.find_all('a')\n",
    "    for a in a_tags:\n",
    "        titre=a.get_text(strip=True)\n",
    "        titres_politique.append(titre)\n",
    "#titres_politique\n",
    "        "
   ]
  },
  {
   "cell_type": "code",
   "execution_count": 113,
   "id": "21e02c98-47fc-4286-a715-dc14acf3da71",
   "metadata": {},
   "outputs": [],
   "source": [
    "#b.https://lefaso.net : pour ce lien récupérer les titres des articles pour les 10 premières pages de la rubrique politique et société.\n",
    "#Rubrique société\n",
    "url=\"https://lefaso.net/spip.php?rubrique4\"\n",
    "response=requests.get(url)\n",
    "response=(response.content.decode(\"utf8\"))\n",
    "soup=BeautifulSoup(response,\"html.parser\")\n",
    "#response"
   ]
  },
  {
   "cell_type": "code",
   "execution_count": 114,
   "id": "57ee1ede-e599-494b-8ec6-df39fe2a13c4",
   "metadata": {},
   "outputs": [],
   "source": [
    "#Recuperation des titres \n",
    "#general la div génerale\n",
    "general=soup.find('div',class_=\"col-xs-12 col-sm-12 col-md-8 col-lg-8\")\n",
    "#Declaration de la liste de titre\n",
    "titres_societe=[]\n",
    "#Recuperation de lien +titre\n",
    "h3_part=general.find_all('h3')\n",
    "for h3 in h3_part:\n",
    "    a_tags=h3.find_all('a')\n",
    "    for a in a_tags:\n",
    "        titre=a.get_text(strip=True)\n",
    "        titres_societe.append(titre)\n",
    "#titres_societe"
   ]
  },
  {
   "cell_type": "code",
   "execution_count": 115,
   "id": "a32cc6b9-7bdf-4875-9385-0f108a7177be",
   "metadata": {},
   "outputs": [],
   "source": [
    "#Enregistrerment des titres dans un fichier csv\n",
    "titres_politique=titres_politique[:10]\n",
    "titres_societe=titres_societe[:10]\n",
    "#Declaration du header\n",
    "header=[\"Politique\",\"Société\"]\n",
    "with open(\"LeFaso.csv\",\"w\",encoding=\"utf8\") as file:\n",
    "        writer=csv.writer(file,delimiter=\",\")\n",
    "        #writer.writerow(header)\n",
    "        for titre_politique,titre_societe in zip(titres_politique,titres_societe):\n",
    "            writer.writerow([titre_politique,titre_societe]) \n"
   ]
  },
  {
   "cell_type": "code",
   "execution_count": null,
   "id": "4fba62c8-3d7e-4adc-a629-c8c730765218",
   "metadata": {},
   "outputs": [],
   "source": [
    "2.Chercher et récupérer les données sur les différentes attaques terroriste au Burkina de 2020 à 2025."
   ]
  },
  {
   "cell_type": "code",
   "execution_count": 93,
   "id": "80866128-171e-4455-892e-1ab5f9aaa93c",
   "metadata": {},
   "outputs": [],
   "source": [
    "\n",
    "url=\"https://lefaso.net/spip.php?rubrique459\"\n",
    "response=requests.get(url)\n",
    "response=(response.content.decode(\"utf8\"))\n",
    "soup=BeautifulSoup(response,\"html.parser\")\n",
    "#response"
   ]
  },
  {
   "cell_type": "code",
   "execution_count": 96,
   "id": "52bd5927-a450-4232-8535-417fd77d5e08",
   "metadata": {},
   "outputs": [
    {
     "data": {
      "text/plain": [
       "['Burkina/Terrorisme\\xa0: Un ex-combattant de Nousra appelle les jeunes à la vigilance contre les pièges de l’enrôlement',\n",
       " 'Burkina\\xa0: Des enfants sauvés des griffes du GSIM racontent leur calvaire',\n",
       " 'Burkina/Lutte contre le terrorisme\\xa0: La Coordination nationale de lutte contre la fraude outille les acteurs pour l’assèchement des financements',\n",
       " 'Burkina\\xa0: Un chef terroriste tué par une frappe ciblée',\n",
       " 'Burkina\\xa0: Deux sœurs jumelles et sœurs d’armes engagées pour la défense de la Patrie',\n",
       " 'Burkina\\xa0: Les Forces combattantes intensifient leurs offensives contre les groupes terroristes',\n",
       " 'Burkina\\xa0: Les échos du front du 09 février 2025',\n",
       " 'Burkina/ Lutte contre le terrorisme\\xa0: Sept terroristes neutralisés dans la zone deThion',\n",
       " 'Lutte contre le terrorisme\\xa0: le Fonds de soutien patriotique renouvelé pour un an',\n",
       " '𝐑𝐞𝐜𝐨𝐧𝐪𝐮𝐞̂𝐭𝐞 𝐝𝐮 𝐭𝐞𝐫𝐫𝐢𝐭𝐨𝐢𝐫𝐞 𝐧𝐚𝐭𝐢𝐨𝐧𝐚𝐥\\xa0: 𝐋𝐞 𝐏𝐫𝐞𝐦𝐢𝐞𝐫 𝐦𝐢𝐧𝐢𝐬𝐭𝐫𝐞 𝐬𝐚𝐥𝐮e 𝐥𝐞 𝐬𝐚𝐜𝐫𝐢𝐟𝐢𝐜𝐞 𝐞𝐭 𝐥’𝐞𝐧𝐠𝐚𝐠𝐞𝐦𝐞𝐧𝐭 𝐝𝐞𝐬 𝐕𝐃𝐏',\n",
       " 'Niger/ lutte Contre le terrorisme\\xa0: Une centaine de repentis de Boko Haram officiellement réintégrés à Diffa',\n",
       " 'Burkina/ Lutte contre le terrorisme\\xa0: Plusieurs terroristes tués et de la logistique de guerre récupérée',\n",
       " 'Burkina/Boucle du Mouhoun\\xa0: Une trentaine de terroristes éliminés dans la province des Banwa',\n",
       " 'Boucle du Mouhoun\\xa0: Les Forces combattantes infligent une cuisante défaite aux terroristes',\n",
       " 'Burkina/Insécurité\\xa0: Des cadres terroristes éliminés en pleine réunion à Pobe-Mengao',\n",
       " 'Burkina/Insécurité\\xa0: Des terroristes neutralisés par des frappes de drones à Sebba',\n",
       " 'Burkina\\xa0: Les Forces combattantes neutralisent plusieurs dizaines de terroristes dans des embuscades',\n",
       " 'Burkina/Région de l’Est\\xa0: Levée du couvre-feu sur l’ensemble du territoire régional à compter du mardi 12 novembre 2024',\n",
       " 'Burkina\\xa0: Les Forces combattantes infligent de lourdes pertes aux terroristes dans quatre régions',\n",
       " 'Burkina\\xa0: Les deux avocats enlevés en octobre 2024 sur l’axe Bobo-Dioulasso-Dédougou ont été libérés']"
      ]
     },
     "execution_count": 96,
     "metadata": {},
     "output_type": "execute_result"
    }
   ],
   "source": [
    "general=soup.find('div',class_=\"col-xs-12 col-sm-12 col-md-8 col-lg-8\")\n",
    "#Declaration de la liste de titre\n",
    "titres_terrorisme=[]\n",
    "#Recuperation de lien +titre\n",
    "h3_part=general.find_all('h3')\n",
    "for h3 in h3_part:\n",
    "    a_tags=h3.find_all('a')\n",
    "    for a in a_tags:\n",
    "        titre=a.get_text(strip=True)\n",
    "        titres_terrorisme.append(titre)\n",
    "titres_terrorisme"
   ]
  },
  {
   "cell_type": "code",
   "execution_count": null,
   "id": "3f215dea-dc44-423e-9df0-15b33300f182",
   "metadata": {},
   "outputs": [],
   "source": []
  }
 ],
 "metadata": {
  "kernelspec": {
   "display_name": "Python 3 (ipykernel)",
   "language": "python",
   "name": "python3"
  },
  "language_info": {
   "codemirror_mode": {
    "name": "ipython",
    "version": 3
   },
   "file_extension": ".py",
   "mimetype": "text/x-python",
   "name": "python",
   "nbconvert_exporter": "python",
   "pygments_lexer": "ipython3",
   "version": "3.11.5"
  }
 },
 "nbformat": 4,
 "nbformat_minor": 5
}
